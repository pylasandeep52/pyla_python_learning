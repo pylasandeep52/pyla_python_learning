{
  "cells": [
    {
      "cell_type": "code",
      "execution_count": null,
      "metadata": {
        "id": "2TcX0y_l1Whd"
      },
      "outputs": [],
      "source": [
        "#Lists"
      ]
    },
    {
      "cell_type": "markdown",
      "metadata": {
        "id": "rZpdMFd62EwT"
      },
      "source": [
        "**Lists**\n",
        "\n",
        " Lists are used to store items, a list is created using square brackets with commas separating items.A certain item in the list can be accessed using index in a square brackets."
      ]
    },
    {
      "cell_type": "code",
      "execution_count": null,
      "metadata": {
        "id": "iaizYuUK3HIz"
      },
      "outputs": [],
      "source": [
        "a=[1,2,3,4]"
      ]
    },
    {
      "cell_type": "code",
      "execution_count": null,
      "metadata": {
        "colab": {
          "base_uri": "https://localhost:8080/"
        },
        "id": "Rz_2XpqL3GWe",
        "outputId": "6960410f-6596-4810-981d-9674c0e08948"
      },
      "outputs": [
        {
          "data": {
            "text/plain": [
              "list"
            ]
          },
          "execution_count": 3,
          "metadata": {},
          "output_type": "execute_result"
        }
      ],
      "source": [
        "type(a)"
      ]
    },
    {
      "cell_type": "code",
      "execution_count": null,
      "metadata": {
        "colab": {
          "base_uri": "https://localhost:8080/"
        },
        "id": "yaaNI2gt3Qs-",
        "outputId": "cf19dde1-21a2-4987-8cb0-b7ac70f93c56"
      },
      "outputs": [
        {
          "name": "stdout",
          "output_type": "stream",
          "text": [
            "[1, 2, 3, 4]\n"
          ]
        }
      ],
      "source": [
        "print(a)"
      ]
    },
    {
      "cell_type": "code",
      "execution_count": null,
      "metadata": {
        "id": "X_U1de653VEy"
      },
      "outputs": [],
      "source": [
        "#empty list\n",
        "a=[]"
      ]
    },
    {
      "cell_type": "code",
      "execution_count": null,
      "metadata": {
        "colab": {
          "base_uri": "https://localhost:8080/"
        },
        "id": "WNu2reWa3b1k",
        "outputId": "e8f108db-1794-417c-b6ca-377c213fddd1"
      },
      "outputs": [
        {
          "data": {
            "text/plain": [
              "list"
            ]
          },
          "execution_count": 8,
          "metadata": {},
          "output_type": "execute_result"
        }
      ],
      "source": [
        "type(a)"
      ]
    },
    {
      "cell_type": "code",
      "execution_count": null,
      "metadata": {
        "id": "d8hnYbhM3iMC"
      },
      "outputs": [],
      "source": [
        "# we can give different data types in the same list\n",
        "a=[\"a\",1,2,3,0.4]"
      ]
    },
    {
      "cell_type": "code",
      "execution_count": null,
      "metadata": {
        "colab": {
          "base_uri": "https://localhost:8080/"
        },
        "id": "LmH80cv13zcl",
        "outputId": "7d3c1385-e391-4870-d76b-f440b507c867"
      },
      "outputs": [
        {
          "data": {
            "text/plain": [
              "list"
            ]
          },
          "execution_count": 10,
          "metadata": {},
          "output_type": "execute_result"
        }
      ],
      "source": [
        "type(a)"
      ]
    },
    {
      "cell_type": "code",
      "execution_count": null,
      "metadata": {
        "colab": {
          "base_uri": "https://localhost:8080/"
        },
        "id": "TGPjNb-933JY",
        "outputId": "70e83d33-147f-4ac6-c777-0c7c6c5ff865"
      },
      "outputs": [
        {
          "data": {
            "text/plain": [
              "5"
            ]
          },
          "execution_count": 11,
          "metadata": {},
          "output_type": "execute_result"
        }
      ],
      "source": [
        "len(a)"
      ]
    },
    {
      "cell_type": "code",
      "execution_count": null,
      "metadata": {
        "colab": {
          "base_uri": "https://localhost:8080/"
        },
        "id": "deZcyngK36PK",
        "outputId": "d2b60789-7d28-47a3-ebe9-694a0993c031"
      },
      "outputs": [
        {
          "data": {
            "text/plain": [
              "0.4"
            ]
          },
          "execution_count": 12,
          "metadata": {},
          "output_type": "execute_result"
        }
      ],
      "source": [
        "#indexing\n",
        "a[-1]"
      ]
    },
    {
      "cell_type": "code",
      "execution_count": null,
      "metadata": {
        "colab": {
          "base_uri": "https://localhost:8080/"
        },
        "id": "2NUfevu54ENO",
        "outputId": "f242bee1-9126-43b9-faf2-718d321b6635"
      },
      "outputs": [
        {
          "data": {
            "text/plain": [
              "[0.4]"
            ]
          },
          "execution_count": 13,
          "metadata": {},
          "output_type": "execute_result"
        }
      ],
      "source": [
        "a[-1:]"
      ]
    },
    {
      "cell_type": "code",
      "execution_count": null,
      "metadata": {
        "colab": {
          "base_uri": "https://localhost:8080/"
        },
        "id": "Sa8nw-Uu4LEo",
        "outputId": "195ac9d6-967e-4e19-e8b8-8493ee189789"
      },
      "outputs": [
        {
          "data": {
            "text/plain": [
              "3"
            ]
          },
          "execution_count": 14,
          "metadata": {},
          "output_type": "execute_result"
        }
      ],
      "source": [
        "a[3]"
      ]
    },
    {
      "cell_type": "code",
      "execution_count": null,
      "metadata": {
        "colab": {
          "base_uri": "https://localhost:8080/",
          "height": 35
        },
        "id": "SIlkQCF14TIe",
        "outputId": "81bb389e-da04-41a1-9302-7794f3ed5518"
      },
      "outputs": [
        {
          "data": {
            "application/vnd.google.colaboratory.intrinsic+json": {
              "type": "string"
            },
            "text/plain": [
              "'a'"
            ]
          },
          "execution_count": 15,
          "metadata": {},
          "output_type": "execute_result"
        }
      ],
      "source": [
        "a[0]"
      ]
    },
    {
      "cell_type": "code",
      "execution_count": null,
      "metadata": {
        "id": "Jmxr9yWP4V3b"
      },
      "outputs": [],
      "source": [
        "#list slicing"
      ]
    },
    {
      "cell_type": "markdown",
      "metadata": {
        "id": "AwzDv_Tt4cgw"
      },
      "source": [
        "List Slicing:\n",
        "\n",
        "List slicing provides more advanced way of retrieving values from a list.Basic list slicing invloves indexing a list with a two colon seperated integers.This returns a new list containing all the values in the old list between the indices."
      ]
    },
    {
      "cell_type": "code",
      "execution_count": null,
      "metadata": {
        "colab": {
          "base_uri": "https://localhost:8080/"
        },
        "id": "ktry42uI4kfa",
        "outputId": "c2846752-7c62-47ee-e69d-699d77e35ec8"
      },
      "outputs": [
        {
          "data": {
            "text/plain": [
              "[1, 2, 3, 'a', True]"
            ]
          },
          "execution_count": 17,
          "metadata": {},
          "output_type": "execute_result"
        }
      ],
      "source": [
        "a=[1,2,3,'a',True]\n",
        "a[:]"
      ]
    },
    {
      "cell_type": "code",
      "execution_count": null,
      "metadata": {
        "colab": {
          "base_uri": "https://localhost:8080/"
        },
        "id": "mT-2XZSC9Hct",
        "outputId": "bde2f7d9-249e-48c1-bded-a6175b59a8d7"
      },
      "outputs": [
        {
          "data": {
            "text/plain": [
              "[2, 3, 'a', True]"
            ]
          },
          "execution_count": 18,
          "metadata": {},
          "output_type": "execute_result"
        }
      ],
      "source": [
        "a[1:]"
      ]
    },
    {
      "cell_type": "code",
      "execution_count": null,
      "metadata": {
        "colab": {
          "base_uri": "https://localhost:8080/"
        },
        "id": "8dbkj73W9L1A",
        "outputId": "7c8f7530-e5a7-4381-8343-70618f1fefbb"
      },
      "outputs": [
        {
          "data": {
            "text/plain": [
              "[True]"
            ]
          },
          "execution_count": 19,
          "metadata": {},
          "output_type": "execute_result"
        }
      ],
      "source": [
        "a[-1:]"
      ]
    },
    {
      "cell_type": "code",
      "execution_count": null,
      "metadata": {
        "colab": {
          "base_uri": "https://localhost:8080/"
        },
        "id": "jcZzBPVr9S5l",
        "outputId": "c210e90c-0d60-4d40-b397-9a0b98455e6b"
      },
      "outputs": [
        {
          "data": {
            "text/plain": [
              "[1, 2, 3]"
            ]
          },
          "execution_count": 21,
          "metadata": {},
          "output_type": "execute_result"
        }
      ],
      "source": [
        "a[0:3] #grabs up to index 3 , excliding index 3"
      ]
    },
    {
      "cell_type": "code",
      "execution_count": null,
      "metadata": {
        "id": "krb2ezCT9W6Z"
      },
      "outputs": [],
      "source": [
        "#list operations\n",
        "a=[1,2,3,'abc',True]\n",
        "b=[5,6,7]"
      ]
    },
    {
      "cell_type": "code",
      "execution_count": null,
      "metadata": {
        "colab": {
          "base_uri": "https://localhost:8080/"
        },
        "id": "sdrdaHgu9xG-",
        "outputId": "7677f481-7b0e-4f56-ce80-cbf5175df1d2"
      },
      "outputs": [
        {
          "data": {
            "text/plain": [
              "list"
            ]
          },
          "execution_count": 25,
          "metadata": {},
          "output_type": "execute_result"
        }
      ],
      "source": [
        "type(a)\n"
      ]
    },
    {
      "cell_type": "code",
      "execution_count": null,
      "metadata": {
        "id": "V5uq_XAB94MJ"
      },
      "outputs": [],
      "source": [
        "a=a+[\"hii\"]"
      ]
    },
    {
      "cell_type": "code",
      "execution_count": null,
      "metadata": {
        "colab": {
          "base_uri": "https://localhost:8080/"
        },
        "id": "AaNGk1RL9_U6",
        "outputId": "049d2b79-b28f-4f47-f344-bc8639df09ba"
      },
      "outputs": [
        {
          "name": "stdout",
          "output_type": "stream",
          "text": [
            "[1, 2, 3, 'abc', True, 'hii']\n"
          ]
        }
      ],
      "source": [
        "print(a)"
      ]
    },
    {
      "cell_type": "code",
      "execution_count": null,
      "metadata": {
        "colab": {
          "base_uri": "https://localhost:8080/"
        },
        "id": "WjhnzpcF-BH4",
        "outputId": "d6106d2a-6702-4ef8-fe0b-04c94604e3f7"
      },
      "outputs": [
        {
          "name": "stdout",
          "output_type": "stream",
          "text": [
            "[1, 2, 3, 'abc', True, 'hii', 5, 6, 7]\n"
          ]
        }
      ],
      "source": [
        "a=a+b\n",
        "print(a)"
      ]
    },
    {
      "cell_type": "code",
      "execution_count": null,
      "metadata": {
        "colab": {
          "base_uri": "https://localhost:8080/"
        },
        "id": "AyIQD3C8-Emx",
        "outputId": "9576f67a-fbaa-4b16-853f-9fece70902f3"
      },
      "outputs": [
        {
          "name": "stdout",
          "output_type": "stream",
          "text": [
            "[1, 2, 3, 'abc', True, 'hii', 5, 6, 7, 1, 2, 3, 'abc', True, 'hii', 5, 6, 7]\n"
          ]
        }
      ],
      "source": [
        "a=a*2\n",
        "print(a)\n"
      ]
    },
    {
      "cell_type": "code",
      "execution_count": null,
      "metadata": {
        "colab": {
          "base_uri": "https://localhost:8080/",
          "height": 35
        },
        "id": "BCqPXYl1-LOZ",
        "outputId": "7680e375-a156-4b16-f8ee-76d7b8c08da6"
      },
      "outputs": [
        {
          "data": {
            "application/vnd.google.colaboratory.intrinsic+json": {
              "type": "string"
            },
            "text/plain": [
              "'abc'"
            ]
          },
          "execution_count": 30,
          "metadata": {},
          "output_type": "execute_result"
        }
      ],
      "source": [
        "a[3]"
      ]
    },
    {
      "cell_type": "code",
      "execution_count": null,
      "metadata": {
        "id": "ggtbLzyv-atd"
      },
      "outputs": [],
      "source": [
        "a[3]=\"hello\"\n",
        "a"
      ]
    },
    {
      "cell_type": "code",
      "execution_count": null,
      "metadata": {
        "colab": {
          "background_save": true
        },
        "id": "vgpk6830-eTA",
        "outputId": "31859b59-cb31-439c-aee4-52d0801acb1c"
      },
      "outputs": [
        {
          "data": {
            "text/plain": [
              "[1, 2, 3, 'hello', True, 'hii', 5, 6, 7, 1, 2, 3, 'abc', True, 'hii', 5, 6, 7]"
            ]
          },
          "execution_count": 34,
          "metadata": {},
          "output_type": "execute_result"
        }
      ],
      "source": []
    },
    {
      "cell_type": "code",
      "source": [
        "b"
      ],
      "metadata": {
        "colab": {
          "base_uri": "https://localhost:8080/"
        },
        "id": "q4edaY1g-vUo",
        "outputId": "4a0878bd-70f5-4b34-ebb5-ddb7ac1150fd"
      },
      "execution_count": null,
      "outputs": [
        {
          "output_type": "execute_result",
          "data": {
            "text/plain": [
              "[5, 6, 7]"
            ]
          },
          "metadata": {},
          "execution_count": 36
        }
      ]
    },
    {
      "cell_type": "code",
      "source": [
        "a=a+b"
      ],
      "metadata": {
        "id": "oYy_waxA-4As"
      },
      "execution_count": null,
      "outputs": []
    },
    {
      "cell_type": "markdown",
      "source": [
        "**INDEX METHODS**\n",
        "\n",
        "1)The index methods finds the first occurence of a list item and returns its index.\n",
        "\n",
        "2)max(list)\n",
        "\n",
        "3)min(list)\n",
        "\n",
        "4)list.remove(item)\n",
        "\n",
        "5)list.reverse()"
      ],
      "metadata": {
        "id": "FzA92OwQ2SNl"
      }
    },
    {
      "cell_type": "code",
      "source": [
        "#index methods\n",
        "a=[1,2,3]\n",
        "print(a)"
      ],
      "metadata": {
        "id": "HClNnn98-85G",
        "colab": {
          "base_uri": "https://localhost:8080/"
        },
        "outputId": "c43ab8b7-e0ae-47ec-c173-4e0b5e97368e"
      },
      "execution_count": null,
      "outputs": [
        {
          "output_type": "stream",
          "name": "stdout",
          "text": [
            "[1, 2, 3]\n"
          ]
        }
      ]
    },
    {
      "cell_type": "code",
      "source": [
        "a.append(4)"
      ],
      "metadata": {
        "id": "Aw4t8aAq3lmp"
      },
      "execution_count": null,
      "outputs": []
    },
    {
      "cell_type": "code",
      "source": [
        "print(a)"
      ],
      "metadata": {
        "id": "Rmzqyugw2ML8",
        "colab": {
          "base_uri": "https://localhost:8080/"
        },
        "outputId": "7957a4e0-bfcd-434e-d768-0ff531432689"
      },
      "execution_count": null,
      "outputs": [
        {
          "output_type": "stream",
          "name": "stdout",
          "text": [
            "[1, 2, 3, 4]\n"
          ]
        }
      ]
    },
    {
      "cell_type": "code",
      "source": [
        "print(len(a))"
      ],
      "metadata": {
        "colab": {
          "base_uri": "https://localhost:8080/"
        },
        "id": "anC2jmGp4ZiZ",
        "outputId": "9e5bdef2-71f3-4da0-8876-91b7e79a9dc7"
      },
      "execution_count": null,
      "outputs": [
        {
          "output_type": "stream",
          "name": "stdout",
          "text": [
            "4\n"
          ]
        }
      ]
    },
    {
      "cell_type": "code",
      "source": [
        "a.insert(6,7)\n",
        "print(a)"
      ],
      "metadata": {
        "colab": {
          "base_uri": "https://localhost:8080/"
        },
        "id": "AU0UfXxB4eYK",
        "outputId": "5572078b-e1d1-4a75-cec5-b2351a29c3ba"
      },
      "execution_count": null,
      "outputs": [
        {
          "output_type": "stream",
          "name": "stdout",
          "text": [
            "[1, 2, 3, 4, 7]\n"
          ]
        }
      ]
    },
    {
      "cell_type": "code",
      "source": [
        "a.index(7)"
      ],
      "metadata": {
        "id": "_szNhFVw4qwr",
        "colab": {
          "base_uri": "https://localhost:8080/"
        },
        "outputId": "e362f497-2239-4113-e927-ada760b33385"
      },
      "execution_count": null,
      "outputs": [
        {
          "output_type": "execute_result",
          "data": {
            "text/plain": [
              "4"
            ]
          },
          "metadata": {},
          "execution_count": 8
        }
      ]
    },
    {
      "cell_type": "code",
      "source": [
        "max(a)"
      ],
      "metadata": {
        "colab": {
          "base_uri": "https://localhost:8080/"
        },
        "id": "RtxTJMcN77gl",
        "outputId": "b901fb5d-a304-4c25-e1d0-dde8e1564c47"
      },
      "execution_count": null,
      "outputs": [
        {
          "output_type": "execute_result",
          "data": {
            "text/plain": [
              "7"
            ]
          },
          "metadata": {},
          "execution_count": 9
        }
      ]
    },
    {
      "cell_type": "code",
      "source": [
        "min(a)"
      ],
      "metadata": {
        "colab": {
          "base_uri": "https://localhost:8080/"
        },
        "id": "tQ22JVBt8FYN",
        "outputId": "cf565ddd-85c1-4ef0-8577-9c7aec410934"
      },
      "execution_count": null,
      "outputs": [
        {
          "output_type": "execute_result",
          "data": {
            "text/plain": [
              "1"
            ]
          },
          "metadata": {},
          "execution_count": 10
        }
      ]
    },
    {
      "cell_type": "code",
      "source": [
        "a.pop()"
      ],
      "metadata": {
        "colab": {
          "base_uri": "https://localhost:8080/"
        },
        "id": "0ppoBcPc8J8z",
        "outputId": "cf4f0965-7023-4162-f667-fb86619b5984"
      },
      "execution_count": null,
      "outputs": [
        {
          "output_type": "execute_result",
          "data": {
            "text/plain": [
              "7"
            ]
          },
          "metadata": {},
          "execution_count": 11
        }
      ]
    },
    {
      "cell_type": "code",
      "source": [
        "print(a)"
      ],
      "metadata": {
        "id": "IND6MHNB8Q-r",
        "colab": {
          "base_uri": "https://localhost:8080/"
        },
        "outputId": "8bb2c37d-bdc8-422f-a181-69dc3ab28e9c"
      },
      "execution_count": null,
      "outputs": [
        {
          "output_type": "stream",
          "name": "stdout",
          "text": [
            "[1, 2, 3, 4]\n"
          ]
        }
      ]
    },
    {
      "cell_type": "code",
      "source": [
        "#ditionaries\n",
        "a={}# empty dict"
      ],
      "metadata": {
        "id": "fpTWuXRr0gAJ"
      },
      "execution_count": null,
      "outputs": []
    },
    {
      "cell_type": "code",
      "source": [
        "type(a)"
      ],
      "metadata": {
        "colab": {
          "base_uri": "https://localhost:8080/"
        },
        "id": "ez4aL9jp26QB",
        "outputId": "944be055-c856-4ade-a581-6e39cd0b3014"
      },
      "execution_count": null,
      "outputs": [
        {
          "output_type": "execute_result",
          "data": {
            "text/plain": [
              "dict"
            ]
          },
          "metadata": {},
          "execution_count": 14
        }
      ]
    },
    {
      "cell_type": "code",
      "source": [
        "a={'k1':'v1','k2':'v2','k3':'v3'}\n",
        "print(a)\n"
      ],
      "metadata": {
        "colab": {
          "base_uri": "https://localhost:8080/"
        },
        "id": "u8Svqwnx290A",
        "outputId": "a78944de-b330-40a1-9570-35127e1a31d2"
      },
      "execution_count": null,
      "outputs": [
        {
          "output_type": "stream",
          "name": "stdout",
          "text": [
            "{'k1': 'v1', 'k2': 'v2', 'k3': 'v3'}\n"
          ]
        }
      ]
    },
    {
      "cell_type": "code",
      "source": [
        "#indexing\n",
        "a['k1']"
      ],
      "metadata": {
        "id": "YRc1ProP3Uix",
        "colab": {
          "base_uri": "https://localhost:8080/",
          "height": 35
        },
        "outputId": "bf545b38-c6ab-4cf5-8fcd-c2dcdf7d06f3"
      },
      "execution_count": null,
      "outputs": [
        {
          "output_type": "execute_result",
          "data": {
            "text/plain": [
              "'v1'"
            ],
            "application/vnd.google.colaboratory.intrinsic+json": {
              "type": "string"
            }
          },
          "metadata": {},
          "execution_count": 17
        }
      ]
    },
    {
      "cell_type": "code",
      "source": [
        "a={1:'hari',2:'ram',3:'loksha'}\n",
        "print(a)"
      ],
      "metadata": {
        "colab": {
          "base_uri": "https://localhost:8080/"
        },
        "id": "tapxk2C9-ZLM",
        "outputId": "9dece616-4220-40a7-bd54-62d6f7ec0c20"
      },
      "execution_count": null,
      "outputs": [
        {
          "output_type": "stream",
          "name": "stdout",
          "text": [
            "{1: 'hari', 2: 'ram', 3: 'loksha'}\n"
          ]
        }
      ]
    },
    {
      "cell_type": "code",
      "source": [
        "a[1]='rani'"
      ],
      "metadata": {
        "id": "K2T5e9wU-xl6"
      },
      "execution_count": null,
      "outputs": []
    },
    {
      "cell_type": "code",
      "source": [
        "print(a)"
      ],
      "metadata": {
        "colab": {
          "base_uri": "https://localhost:8080/"
        },
        "id": "YQ_fgsjY-3-X",
        "outputId": "4f789947-99b3-4135-a90c-488a910b0df8"
      },
      "execution_count": null,
      "outputs": [
        {
          "output_type": "stream",
          "name": "stdout",
          "text": [
            "{1: 'rani', 2: 'ram', 3: 'loksha'}\n"
          ]
        }
      ]
    },
    {
      "cell_type": "code",
      "source": [
        "#ditionaries funtions\n",
        "a.keys()"
      ],
      "metadata": {
        "colab": {
          "base_uri": "https://localhost:8080/"
        },
        "id": "H-mJZH1Z-6CI",
        "outputId": "d378b75e-94b2-4ce1-823e-72b0a37a2555"
      },
      "execution_count": null,
      "outputs": [
        {
          "output_type": "execute_result",
          "data": {
            "text/plain": [
              "dict_keys([1, 2, 3])"
            ]
          },
          "metadata": {},
          "execution_count": 21
        }
      ]
    },
    {
      "cell_type": "code",
      "source": [
        "a.values()"
      ],
      "metadata": {
        "colab": {
          "base_uri": "https://localhost:8080/"
        },
        "id": "3Oj30qXf_Wxn",
        "outputId": "9b2a4646-e749-415d-e75c-af4fd72fc7b9"
      },
      "execution_count": null,
      "outputs": [
        {
          "output_type": "execute_result",
          "data": {
            "text/plain": [
              "dict_values(['rani', 'ram', 'loksha'])"
            ]
          },
          "metadata": {},
          "execution_count": 22
        }
      ]
    },
    {
      "cell_type": "code",
      "source": [
        "a.items()"
      ],
      "metadata": {
        "colab": {
          "base_uri": "https://localhost:8080/"
        },
        "id": "ouoFFdNw_neB",
        "outputId": "5cb2b119-f7d8-480b-88b3-02a2808b1c3a"
      },
      "execution_count": null,
      "outputs": [
        {
          "output_type": "execute_result",
          "data": {
            "text/plain": [
              "dict_items([(1, 'rani'), (2, 'ram'), (3, 'loksha')])"
            ]
          },
          "metadata": {},
          "execution_count": 23
        }
      ]
    },
    {
      "cell_type": "code",
      "source": [
        "if 1 not in a.keys():\n",
        "  print('true')\n",
        "else:\n",
        "  print('false')"
      ],
      "metadata": {
        "colab": {
          "base_uri": "https://localhost:8080/"
        },
        "id": "UAw85eHW_tVO",
        "outputId": "22ab1339-288d-4fe2-fed4-8f7c96afb6f3"
      },
      "execution_count": null,
      "outputs": [
        {
          "output_type": "stream",
          "name": "stdout",
          "text": [
            "false\n"
          ]
        }
      ]
    },
    {
      "cell_type": "code",
      "source": [
        "print(a.get(1))"
      ],
      "metadata": {
        "id": "Dv4-G-7MCGj7",
        "colab": {
          "base_uri": "https://localhost:8080/"
        },
        "outputId": "dd1604d2-8030-489c-8deb-65599694cafb"
      },
      "execution_count": null,
      "outputs": [
        {
          "output_type": "stream",
          "name": "stdout",
          "text": [
            "rani\n"
          ]
        }
      ]
    },
    {
      "cell_type": "code",
      "source": [
        "#tuples\n",
        "t=()\n",
        "type(t)"
      ],
      "metadata": {
        "id": "-e5p4CtX_4Ov",
        "colab": {
          "base_uri": "https://localhost:8080/"
        },
        "outputId": "1b9a33aa-6938-4a64-eac1-2dad85e325fd"
      },
      "execution_count": null,
      "outputs": [
        {
          "output_type": "execute_result",
          "data": {
            "text/plain": [
              "tuple"
            ]
          },
          "metadata": {},
          "execution_count": 33
        }
      ]
    },
    {
      "cell_type": "code",
      "source": [
        "t=(1,2,3)\n",
        "print(t)"
      ],
      "metadata": {
        "id": "kN37wwQVFclI",
        "colab": {
          "base_uri": "https://localhost:8080/"
        },
        "outputId": "c488fdae-282b-48d9-8c03-a0d9efe554a7"
      },
      "execution_count": null,
      "outputs": [
        {
          "output_type": "stream",
          "name": "stdout",
          "text": [
            "(1, 2, 3)\n"
          ]
        }
      ]
    },
    {
      "cell_type": "code",
      "source": [
        "#tuples are immutable\n",
        "t[1]"
      ],
      "metadata": {
        "colab": {
          "base_uri": "https://localhost:8080/"
        },
        "id": "hG0Kby_WF-Yi",
        "outputId": "7560ec1d-00b9-4c9a-e070-031059961754"
      },
      "execution_count": null,
      "outputs": [
        {
          "output_type": "execute_result",
          "data": {
            "text/plain": [
              "2"
            ]
          },
          "metadata": {},
          "execution_count": 36
        }
      ]
    },
    {
      "cell_type": "code",
      "source": [
        "t[-1]"
      ],
      "metadata": {
        "colab": {
          "base_uri": "https://localhost:8080/"
        },
        "id": "q1vC_TCSGI3G",
        "outputId": "f5c6940a-7688-4cd4-85df-dff53a73ec58"
      },
      "execution_count": null,
      "outputs": [
        {
          "output_type": "execute_result",
          "data": {
            "text/plain": [
              "3"
            ]
          },
          "metadata": {},
          "execution_count": 37
        }
      ]
    },
    {
      "cell_type": "code",
      "source": [
        "t*2"
      ],
      "metadata": {
        "colab": {
          "base_uri": "https://localhost:8080/"
        },
        "id": "hVTb9tGuGLHn",
        "outputId": "67216f6d-9d9d-4077-c625-8ae67fcc2b25"
      },
      "execution_count": null,
      "outputs": [
        {
          "output_type": "execute_result",
          "data": {
            "text/plain": [
              "(1, 2, 3, 1, 2, 3)"
            ]
          },
          "metadata": {},
          "execution_count": 38
        }
      ]
    },
    {
      "cell_type": "code",
      "source": [
        "#sets\n",
        "s=set()\n",
        "type(s)"
      ],
      "metadata": {
        "colab": {
          "base_uri": "https://localhost:8080/"
        },
        "id": "CnPMJAsBGUZL",
        "outputId": "17cf1c0a-2a39-4f6e-83d7-869b98a7351c"
      },
      "execution_count": null,
      "outputs": [
        {
          "output_type": "execute_result",
          "data": {
            "text/plain": [
              "set"
            ]
          },
          "metadata": {},
          "execution_count": 42
        }
      ]
    },
    {
      "cell_type": "code",
      "source": [
        "s.add(3)\n",
        "print(s)"
      ],
      "metadata": {
        "colab": {
          "base_uri": "https://localhost:8080/"
        },
        "id": "CT1CSmriGrp8",
        "outputId": "ac9eb817-86b2-4443-cca7-b1584ed0a77f"
      },
      "execution_count": null,
      "outputs": [
        {
          "output_type": "stream",
          "name": "stdout",
          "text": [
            "{3}\n"
          ]
        }
      ]
    },
    {
      "cell_type": "code",
      "source": [
        "s.add(2)\n",
        "print(s)"
      ],
      "metadata": {
        "colab": {
          "base_uri": "https://localhost:8080/"
        },
        "id": "KEqJbptQG2Jv",
        "outputId": "1cd6e8d3-be4c-4e67-cde2-843dfcec8865"
      },
      "execution_count": null,
      "outputs": [
        {
          "output_type": "stream",
          "name": "stdout",
          "text": [
            "{2, 3}\n"
          ]
        }
      ]
    },
    {
      "cell_type": "code",
      "source": [
        "s.add(3)# we can't add 3 again\n",
        "print(s)"
      ],
      "metadata": {
        "colab": {
          "base_uri": "https://localhost:8080/"
        },
        "id": "G-8CejNAG85P",
        "outputId": "c25d4040-538a-430f-a1e4-557b82773b4d"
      },
      "execution_count": null,
      "outputs": [
        {
          "output_type": "stream",
          "name": "stdout",
          "text": [
            "{2, 3}\n"
          ]
        }
      ]
    },
    {
      "cell_type": "code",
      "source": [
        "s={1,2,3,4,5,6}\n",
        "print(s)"
      ],
      "metadata": {
        "colab": {
          "base_uri": "https://localhost:8080/"
        },
        "id": "sBAQ0gJ7HLbY",
        "outputId": "77eb0fd7-8d01-4e36-ea85-e7e98a244835"
      },
      "execution_count": null,
      "outputs": [
        {
          "output_type": "stream",
          "name": "stdout",
          "text": [
            "{1, 2, 3, 4, 5, 6}\n"
          ]
        }
      ]
    },
    {
      "cell_type": "code",
      "source": [
        "#converting list in to set\n",
        "l=[1,2,3]\n",
        "type(l)"
      ],
      "metadata": {
        "id": "VewYv26yHC8P",
        "colab": {
          "base_uri": "https://localhost:8080/"
        },
        "outputId": "dcee6cb3-bf42-4fed-d7cf-285e030d5e10"
      },
      "execution_count": 49,
      "outputs": [
        {
          "output_type": "execute_result",
          "data": {
            "text/plain": [
              "list"
            ]
          },
          "metadata": {},
          "execution_count": 49
        }
      ]
    },
    {
      "cell_type": "code",
      "source": [
        "s=set(l)"
      ],
      "metadata": {
        "id": "cFdtdcBCH4b7"
      },
      "execution_count": 50,
      "outputs": []
    },
    {
      "cell_type": "code",
      "source": [
        "print(s)\n"
      ],
      "metadata": {
        "colab": {
          "base_uri": "https://localhost:8080/"
        },
        "id": "GbHIPrlmH-ce",
        "outputId": "53ac1f93-3d55-4785-cb45-366efcafc7ca"
      },
      "execution_count": 51,
      "outputs": [
        {
          "output_type": "stream",
          "name": "stdout",
          "text": [
            "{1, 2, 3}\n"
          ]
        }
      ]
    },
    {
      "cell_type": "code",
      "source": [
        "if 1 in s:\n",
        "  print('true')\n",
        "else:\n",
        "  print('false')"
      ],
      "metadata": {
        "colab": {
          "base_uri": "https://localhost:8080/"
        },
        "id": "ZbHXF4zlIDlg",
        "outputId": "99afee0c-b9dc-494f-a0d6-76a5139edc7c"
      },
      "execution_count": 52,
      "outputs": [
        {
          "output_type": "stream",
          "name": "stdout",
          "text": [
            "true\n"
          ]
        }
      ]
    },
    {
      "cell_type": "code",
      "source": [
        "#comparision operators\n",
        "print(1==2)\n",
        "print(2==2)\n",
        "print(2!=2)\n",
        "print(1!=2)\n",
        "print(1<2)\n",
        "print(2>5)\n",
        "print(1<=2)\n",
        "print(2>=2)\n",
        "print(2==2)"
      ],
      "metadata": {
        "colab": {
          "base_uri": "https://localhost:8080/"
        },
        "id": "02pJvYevIRzf",
        "outputId": "3a3bde75-f95e-4213-b43c-408f49d4b503"
      },
      "execution_count": 54,
      "outputs": [
        {
          "output_type": "stream",
          "name": "stdout",
          "text": [
            "False\n",
            "True\n",
            "False\n",
            "True\n",
            "True\n",
            "False\n",
            "True\n",
            "True\n",
            "True\n"
          ]
        }
      ]
    },
    {
      "cell_type": "code",
      "source": [],
      "metadata": {
        "id": "wq3TLNB9Iy_G"
      },
      "execution_count": null,
      "outputs": []
    }
  ],
  "metadata": {
    "colab": {
      "provenance": []
    },
    "kernelspec": {
      "display_name": "Python 3",
      "name": "python3"
    },
    "language_info": {
      "name": "python"
    }
  },
  "nbformat": 4,
  "nbformat_minor": 0
}